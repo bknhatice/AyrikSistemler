{
 "cells": [
  {
   "cell_type": "markdown",
   "id": "38497cc5",
   "metadata": {},
   "source": [
    "Soru 1:\n",
    "\n",
    "Bir bankanın müşterileri, hesaplarını erişmek için 8 haneli bir şifre belirlemeleri gerekiyor. Şifrede sadece rakamlar kullanılabilir ve şifrenin ilk rakamı 0 olamaz. Kaç farklı şifre belirlenebilir?\n",
    "\n",
    "Çözüm:\n",
    "Bu soruda, şifrenin 8 haneli ve sadece rakamlardan oluştuğu belirtiliyor. Ayrıca, şifrenin ilk rakamı 0 olamaz.\n",
    "\n",
    "İlk rakam 0 olamayacağı için, ilk hanelerde 9 seçenek var (1-9). Diğer 7 hane de rakam olduğu için, her biri 10 farklı seçenekle belirlenebilir.\n",
    "\n",
    "Bu nedenle, kaç farklı şifre belirlenebileceğini hesaplamak için aşağıdaki formülü kullanabiliriz:\n",
    "\n",
    "9 x 10 x 10 x 10 x 10 x 10 x 10 x 10 = 9 x 10^7\n",
    "\n",
    "Bu, 90 milyon farklı şifrenin oluşturulabileceği anlamına gelir.\n",
    "\n",
    "Python kodu:"
   ]
  },
  {
   "cell_type": "code",
   "execution_count": null,
   "id": "15082ae8",
   "metadata": {},
   "outputs": [],
   "source": [
    "num_first_digit = 9 # ilk hane için 0 dışındaki seçenek sayısı\n",
    "num_other_digits = 10 # diğer haneler için 10 seçenek\n",
    "num_passwords = num_first_digit * (num_other_digits ** 7) # 8 haneli şifrelerin toplam sayısı\n",
    "print(num_passwords) # sonuç: 90000000"
   ]
  },
  {
   "cell_type": "markdown",
   "id": "3b137523",
   "metadata": {},
   "source": [
    "Kodda, num_first_digit değişkeni ilk hanede kullanılabilecek seçenek sayısını temsil eder. num_other_digits değişkeni ise diğer hanelerde kullanılabilecek seçenek sayısını temsil eder. num_passwords değişkeni, tüm şifrelerin toplam sayısını hesaplamak için kullanılır."
   ]
  },
  {
   "cell_type": "markdown",
   "id": "668b5f90",
   "metadata": {},
   "source": [
    "\n",
    "Soru 2:\n",
    "\n",
    "4 farklı renkli top var ve bu toplar 3 farklı kutuya konulacak. Her kutu en az bir top içermek zorundadır. Topların renkleri önemli olmak üzere, kaç farklı dağılım yapılabilir?\n",
    "\n",
    "Çözüm:\n",
    "Topların renklerinin önemli olduğu belirtildiği için, permütasyon kullanarak kaç farklı dağılım yapabileceğimizi hesaplayabiliriz. \n",
    "İlk kutuya --> bir top konulduktan sonra, \n",
    "ikinci kutuya --> 2 top,\n",
    "üçüncü kutuya --> 1 top konmalıdır. \n",
    "Bu durumda, kaç farklı top seçimi yapabileceğimizi hesaplamak için aşağıdaki formülü kullanabiliriz:\n",
    "\n",
    "4P1 x 3P2 x 2P1 = 4 x 3 x 2 x 2\n",
    "\n",
    "Python kodu:"
   ]
  },
  {
   "cell_type": "code",
   "execution_count": null,
   "id": "c9eec621",
   "metadata": {},
   "outputs": [],
   "source": [
    "from itertools import product\n",
    "\n",
    "# top renkleri\n",
    "colors = ['Kırmızı', 'Mavi', 'Yeşil', 'Sarı']\n",
    "\n",
    "# kutu sayısı\n",
    "n_boxes = 3\n",
    "\n",
    "count = 0\n",
    "for c in product(range(1, len(colors)), repeat=n_boxes-1):\n",
    "    # her kutu en az bir top içermeli\n",
    "    if sum(c) < len(colors):\n",
    "        continue\n",
    "\n",
    "    # kalan topu son kutuya koy\n",
    "    c += (len(colors) - sum(c),)\n",
    "\n",
    "    # top renkleri için permütasyonu hesapla\n",
    "    p = 1\n",
    "    for x in c:\n",
    "        p *= x\n",
    "    count += p\n",
    "\n",
    "print(\"Topların farklı kutulara konulma sayısı: \", count)"
   ]
  },
  {
   "cell_type": "markdown",
   "id": "9f55c201",
   "metadata": {},
   "source": [
    "Bu kod, itertools.product() işlevini kullanarak tüm farklı kutu dağılımlarını üretir ve her kutuda en az bir top olduğundan emin olur. Daha sonra, her kutudaki top sayısının, o kutuda farklı renkteki topların olabileceği sayıyı çarparak, farklı renklerdeki topların farklı kutulara yerleştirilme sayısını hesaplar."
   ]
  }
 ],
 "metadata": {
  "kernelspec": {
   "display_name": "Python 3 (ipykernel)",
   "language": "python",
   "name": "python3"
  },
  "language_info": {
   "codemirror_mode": {
    "name": "ipython",
    "version": 3
   },
   "file_extension": ".py",
   "mimetype": "text/x-python",
   "name": "python",
   "nbconvert_exporter": "python",
   "pygments_lexer": "ipython3",
   "version": "3.8.9"
  }
 },
 "nbformat": 4,
 "nbformat_minor": 5
}
