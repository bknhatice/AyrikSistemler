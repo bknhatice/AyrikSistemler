{
  "metadata": {
    "language_info": {
      "codemirror_mode": {
        "name": "python",
        "version": 3
      },
      "file_extension": ".py",
      "mimetype": "text/x-python",
      "name": "python",
      "nbconvert_exporter": "python",
      "pygments_lexer": "ipython3",
      "version": "3.8"
    },
    "kernelspec": {
      "name": "python",
      "display_name": "Python (Pyodide)",
      "language": "python"
    }
  },
  "nbformat_minor": 4,
  "nbformat": 4,
  "cells": [
    {
      "cell_type": "markdown",
      "source": "Soru 1:  Bir tatlıcıda 4 çeşit tatlı vardır: sütlaç, muhallebi, pasta, ekler. Pastanın %35, sütlacın %30, eklerin %25, muhallebinin ise %10 oranında tercih edildiği bilinmektedir. Rastgele bir tatlı seçildiğinde, ekleri seçme olasılığı nedir?\n\nÇözüm: Soruda, eklerin seçilme olasılığı hesaplanacaktır. Eklerin seçilme olasılığı, toplam tatlı seçme olasılığına bölünerek hesaplanabilir. Toplam tatlı seçme olasılığı, pastanın, sütlaçın, eklerin ve muhallebinin tercih edilme olasılıklarının toplamına eşittir:\n\nP(toplam) = 0.35 + 0.30 + 0.25 + 0.10 = 1\n\nEklerin seçilme olasılığı, eklerin tercih edilme olasılığına toplam tatlı seçme olasılığının koşulu altında hesaplanır:\n\nP(ekler) = P(ekleri tercih etme) / P(toplam tatlı seçme)\n\nP(ekler) = 0.25 / 1 = 0.25\n\nYani, rastgele seçilen tatlılar arasından ekleri seçme olasılığı %25'tir.",
      "metadata": {}
    },
    {
      "cell_type": "code",
      "source": "# Tatlıların tercih edilme olasılıkları\npastanin_olasiligi = 0.35\nsutlac_olasiligi = 0.30\neklerin_olasiligi = 0.25\nmuhallebinin_olasiligi = 0.10\n\n# Toplam tatlı seçme olasılığı\ntoplam_olasilik = pastanin_olasiligi + sutlac_olasiligi + eklerin_olasiligi + muhallebinin_olasiligi\n\n# Eklerin seçilme olasılığı\neklerin_secilme_olasiligi = eklerin_olasiligi / toplam_olasilik\n\nprint(\"Ekleri seçme olasılığı:\", eklerin_secilme_olasiligi)",
      "metadata": {
        "trusted": true
      },
      "execution_count": 2,
      "outputs": [
        {
          "name": "stdout",
          "text": "0.9999999999999999\nEkleri seçme olasılığı: 0.25000000000000006\n",
          "output_type": "stream"
        }
      ]
    },
    {
      "cell_type": "code",
      "source": "",
      "metadata": {},
      "execution_count": null,
      "outputs": []
    }
  ]
}