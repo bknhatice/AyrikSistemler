{
  "metadata": {
    "kernelspec": {
      "name": "python",
      "display_name": "Python (Pyodide)",
      "language": "python"
    },
    "language_info": {
      "codemirror_mode": {
        "name": "python",
        "version": 3
      },
      "file_extension": ".py",
      "mimetype": "text/x-python",
      "name": "python",
      "nbconvert_exporter": "python",
      "pygments_lexer": "ipython3",
      "version": "3.8"
    }
  },
  "nbformat_minor": 5,
  "nbformat": 4,
  "cells": [
    {
      "cell_type": "code",
      "source": "# SORU 1:\n\n# Bir düğmeye 3 defa basıldığında, her seferinde ya \"a\" ya da \"b\" harfi görünür. \"a\" harfi 2 kez görünme olasılığı nedir?\n\n# CEVAP:\n\n# Beş bağımsız denemede \"a\" veya \"b\" harflerinin görülme olasılığını hesaplamayı gerektirir. \n# Her deneme için iki seçenek var, bu nedenle toplamda 2 x 2 x 2 = 8 olası sonuç vardır.\n\n# \"A\" harfinin 2 kez görünme olasılığı, \"a\" harfi ve \"b\" harfi arasındaki kombinasyonlarla gerçekleşebilir. \n# 3 basamaklı bir dizede 2 \"a\" harfi seçmek için kullanılabilecek kombinasyonların sayısı C(3,2) 'dir ve 3! / (2! x (3-2)!) = 3'dür.\n\n# Her bir senaryonun olasılığı, \"a\" harfi olasılığının \"b\" harfi olasılığına eşit olduğu için \n# (her iki harf de eşit olasılığa sahip olduğundan) şu şekilde hesaplanabilir:\n\n#                P(2 \"a\" harfi) = (1/2)^2 x (1/2)^1 x 3 = 3/8\n\n#                  Toplam olasılık 3/8'dir.",
      "metadata": {},
      "execution_count": null,
      "outputs": [],
      "id": "d7ce486d-13f9-41ed-962b-15d4d9fcbb9f"
    },
    {
      "cell_type": "code",
      "source": "from itertools import combinations\n\n# Toplam deneme sayısı\ntoplamDenemeSayisi = 2**3\n\n# 2 'a' harfi kombinasyonları\na_comb = list(combinations(range(3), 2))\n\n# Olası senaryo sayısı\nolasiDenemeSayisi = len(a_comb)\n\n# 'a' harfi 2 kez görünme olasılığı\na_olasiligi = olasiDenemeSayisi / toplamDenemeSayisi\n\nprint(\"2 'a' harfi görünme olasılığı:\", a_olasiligi)",
      "metadata": {
        "trusted": true
      },
      "execution_count": 8,
      "outputs": [
        {
          "name": "stdout",
          "text": "2 'a' harfi görünme olasılığı: 0.375\n",
          "output_type": "stream"
        }
      ],
      "id": "40b64d7a-8845-4383-9b63-9e92f365c0f1"
    },
    {
      "cell_type": "code",
      "source": "",
      "metadata": {},
      "execution_count": null,
      "outputs": [],
      "id": "0dd8e34b-6870-4a5d-99a9-48a195fc530d"
    }
  ]
}